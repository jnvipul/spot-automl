{
 "cells": [
  {
   "cell_type": "code",
   "execution_count": 25,
   "metadata": {},
   "outputs": [],
   "source": [
    "import pandas as pd\n",
    "import os\n",
    "import shutil"
   ]
  },
  {
   "cell_type": "code",
   "execution_count": 5,
   "metadata": {},
   "outputs": [
    {
     "name": "stdout",
     "output_type": "stream",
     "text": [
      "Untitled.ipynb        \u001b[31msample_submission.csv\u001b[m\u001b[m \u001b[1m\u001b[36mtrain\u001b[m\u001b[m\r\n",
      "\u001b[31mlabels.csv\u001b[m\u001b[m            \u001b[31mtest.zip\u001b[m\u001b[m              \u001b[31mtrain.zip\u001b[m\u001b[m\r\n"
     ]
    }
   ],
   "source": [
    "!ls"
   ]
  },
  {
   "cell_type": "code",
   "execution_count": 2,
   "metadata": {},
   "outputs": [],
   "source": [
    "df = pd.read_csv('labels.csv')"
   ]
  },
  {
   "cell_type": "code",
   "execution_count": 3,
   "metadata": {},
   "outputs": [
    {
     "name": "stdout",
     "output_type": "stream",
     "text": [
      "<class 'pandas.core.frame.DataFrame'>\n",
      "RangeIndex: 10222 entries, 0 to 10221\n",
      "Data columns (total 2 columns):\n",
      "id       10222 non-null object\n",
      "breed    10222 non-null object\n",
      "dtypes: object(2)\n",
      "memory usage: 159.8+ KB\n"
     ]
    }
   ],
   "source": [
    "df.info()"
   ]
  },
  {
   "cell_type": "code",
   "execution_count": 4,
   "metadata": {},
   "outputs": [
    {
     "data": {
      "text/html": [
       "<div>\n",
       "<style scoped>\n",
       "    .dataframe tbody tr th:only-of-type {\n",
       "        vertical-align: middle;\n",
       "    }\n",
       "\n",
       "    .dataframe tbody tr th {\n",
       "        vertical-align: top;\n",
       "    }\n",
       "\n",
       "    .dataframe thead th {\n",
       "        text-align: right;\n",
       "    }\n",
       "</style>\n",
       "<table border=\"1\" class=\"dataframe\">\n",
       "  <thead>\n",
       "    <tr style=\"text-align: right;\">\n",
       "      <th></th>\n",
       "      <th>id</th>\n",
       "      <th>breed</th>\n",
       "    </tr>\n",
       "  </thead>\n",
       "  <tbody>\n",
       "    <tr>\n",
       "      <th>0</th>\n",
       "      <td>000bec180eb18c7604dcecc8fe0dba07</td>\n",
       "      <td>boston_bull</td>\n",
       "    </tr>\n",
       "    <tr>\n",
       "      <th>1</th>\n",
       "      <td>001513dfcb2ffafc82cccf4d8bbaba97</td>\n",
       "      <td>dingo</td>\n",
       "    </tr>\n",
       "    <tr>\n",
       "      <th>2</th>\n",
       "      <td>001cdf01b096e06d78e9e5112d419397</td>\n",
       "      <td>pekinese</td>\n",
       "    </tr>\n",
       "    <tr>\n",
       "      <th>3</th>\n",
       "      <td>00214f311d5d2247d5dfe4fe24b2303d</td>\n",
       "      <td>bluetick</td>\n",
       "    </tr>\n",
       "    <tr>\n",
       "      <th>4</th>\n",
       "      <td>0021f9ceb3235effd7fcde7f7538ed62</td>\n",
       "      <td>golden_retriever</td>\n",
       "    </tr>\n",
       "  </tbody>\n",
       "</table>\n",
       "</div>"
      ],
      "text/plain": [
       "                                 id             breed\n",
       "0  000bec180eb18c7604dcecc8fe0dba07       boston_bull\n",
       "1  001513dfcb2ffafc82cccf4d8bbaba97             dingo\n",
       "2  001cdf01b096e06d78e9e5112d419397          pekinese\n",
       "3  00214f311d5d2247d5dfe4fe24b2303d          bluetick\n",
       "4  0021f9ceb3235effd7fcde7f7538ed62  golden_retriever"
      ]
     },
     "execution_count": 4,
     "metadata": {},
     "output_type": "execute_result"
    }
   ],
   "source": [
    "df.head()"
   ]
  },
  {
   "cell_type": "code",
   "execution_count": 32,
   "metadata": {},
   "outputs": [],
   "source": [
    "def make_folders():\n",
    "    for f in os.listdir('train'):\n",
    "        filename, file_extension = os.path.splitext(f)\n",
    "#         print(filename)\n",
    "        breed = df[df['id'] == filename].iloc[0]['breed']\n",
    "        if not os.path.exists(breed):\n",
    "            os.mkdir(breed)\n",
    "        old_path = os.path.join('train', f)\n",
    "        new_path = os.path.join(breed, f)\n",
    "        shutil.move(old_path, new_path)  \n",
    "        "
   ]
  },
  {
   "cell_type": "code",
   "execution_count": 33,
   "metadata": {},
   "outputs": [],
   "source": [
    "make_folders()"
   ]
  },
  {
   "cell_type": "code",
   "execution_count": null,
   "metadata": {},
   "outputs": [],
   "source": []
  },
  {
   "cell_type": "code",
   "execution_count": 34,
   "metadata": {},
   "outputs": [
    {
     "name": "stdout",
     "output_type": "stream",
     "text": [
      "Untitled.ipynb                 \u001b[1m\u001b[36mkelpie\u001b[m\u001b[m\r\n",
      "\u001b[1m\u001b[36maffenpinscher\u001b[m\u001b[m                  \u001b[1m\u001b[36mkerry_blue_terrier\u001b[m\u001b[m\r\n",
      "\u001b[1m\u001b[36mafghan_hound\u001b[m\u001b[m                   \u001b[1m\u001b[36mkomondor\u001b[m\u001b[m\r\n",
      "\u001b[1m\u001b[36mafrican_hunting_dog\u001b[m\u001b[m            \u001b[1m\u001b[36mkuvasz\u001b[m\u001b[m\r\n",
      "\u001b[1m\u001b[36mairedale\u001b[m\u001b[m                       \u001b[31mlabels.csv\u001b[m\u001b[m\r\n",
      "\u001b[1m\u001b[36mamerican_staffordshire_terrier\u001b[m\u001b[m \u001b[1m\u001b[36mlabrador_retriever\u001b[m\u001b[m\r\n",
      "\u001b[1m\u001b[36mappenzeller\u001b[m\u001b[m                    \u001b[1m\u001b[36mlakeland_terrier\u001b[m\u001b[m\r\n",
      "\u001b[1m\u001b[36maustralian_terrier\u001b[m\u001b[m             \u001b[1m\u001b[36mleonberg\u001b[m\u001b[m\r\n",
      "\u001b[1m\u001b[36mbasenji\u001b[m\u001b[m                        \u001b[1m\u001b[36mlhasa\u001b[m\u001b[m\r\n",
      "\u001b[1m\u001b[36mbasset\u001b[m\u001b[m                         \u001b[1m\u001b[36mmalamute\u001b[m\u001b[m\r\n",
      "\u001b[1m\u001b[36mbeagle\u001b[m\u001b[m                         \u001b[1m\u001b[36mmalinois\u001b[m\u001b[m\r\n",
      "\u001b[1m\u001b[36mbedlington_terrier\u001b[m\u001b[m             \u001b[1m\u001b[36mmaltese_dog\u001b[m\u001b[m\r\n",
      "\u001b[1m\u001b[36mbernese_mountain_dog\u001b[m\u001b[m           \u001b[1m\u001b[36mmexican_hairless\u001b[m\u001b[m\r\n",
      "\u001b[1m\u001b[36mblack-and-tan_coonhound\u001b[m\u001b[m        \u001b[1m\u001b[36mminiature_pinscher\u001b[m\u001b[m\r\n",
      "\u001b[1m\u001b[36mblenheim_spaniel\u001b[m\u001b[m               \u001b[1m\u001b[36mminiature_poodle\u001b[m\u001b[m\r\n",
      "\u001b[1m\u001b[36mbloodhound\u001b[m\u001b[m                     \u001b[1m\u001b[36mminiature_schnauzer\u001b[m\u001b[m\r\n",
      "\u001b[1m\u001b[36mbluetick\u001b[m\u001b[m                       \u001b[1m\u001b[36mnewfoundland\u001b[m\u001b[m\r\n",
      "\u001b[1m\u001b[36mborder_collie\u001b[m\u001b[m                  \u001b[1m\u001b[36mnorfolk_terrier\u001b[m\u001b[m\r\n",
      "\u001b[1m\u001b[36mborder_terrier\u001b[m\u001b[m                 \u001b[1m\u001b[36mnorwegian_elkhound\u001b[m\u001b[m\r\n",
      "\u001b[1m\u001b[36mborzoi\u001b[m\u001b[m                         \u001b[1m\u001b[36mnorwich_terrier\u001b[m\u001b[m\r\n",
      "\u001b[1m\u001b[36mboston_bull\u001b[m\u001b[m                    \u001b[1m\u001b[36mold_english_sheepdog\u001b[m\u001b[m\r\n",
      "\u001b[1m\u001b[36mbouvier_des_flandres\u001b[m\u001b[m           \u001b[1m\u001b[36motterhound\u001b[m\u001b[m\r\n",
      "\u001b[1m\u001b[36mboxer\u001b[m\u001b[m                          \u001b[1m\u001b[36mpapillon\u001b[m\u001b[m\r\n",
      "\u001b[1m\u001b[36mbrabancon_griffon\u001b[m\u001b[m              \u001b[1m\u001b[36mpekinese\u001b[m\u001b[m\r\n",
      "\u001b[1m\u001b[36mbriard\u001b[m\u001b[m                         \u001b[1m\u001b[36mpembroke\u001b[m\u001b[m\r\n",
      "\u001b[1m\u001b[36mbrittany_spaniel\u001b[m\u001b[m               \u001b[1m\u001b[36mpomeranian\u001b[m\u001b[m\r\n",
      "\u001b[1m\u001b[36mbull_mastiff\u001b[m\u001b[m                   \u001b[1m\u001b[36mpug\u001b[m\u001b[m\r\n",
      "\u001b[1m\u001b[36mcairn\u001b[m\u001b[m                          \u001b[1m\u001b[36mredbone\u001b[m\u001b[m\r\n",
      "\u001b[1m\u001b[36mcardigan\u001b[m\u001b[m                       \u001b[1m\u001b[36mrhodesian_ridgeback\u001b[m\u001b[m\r\n",
      "\u001b[1m\u001b[36mchesapeake_bay_retriever\u001b[m\u001b[m       \u001b[1m\u001b[36mrottweiler\u001b[m\u001b[m\r\n",
      "\u001b[1m\u001b[36mchihuahua\u001b[m\u001b[m                      \u001b[1m\u001b[36msaint_bernard\u001b[m\u001b[m\r\n",
      "\u001b[1m\u001b[36mchow\u001b[m\u001b[m                           \u001b[1m\u001b[36msaluki\u001b[m\u001b[m\r\n",
      "\u001b[1m\u001b[36mclumber\u001b[m\u001b[m                        \u001b[1m\u001b[36msamoyed\u001b[m\u001b[m\r\n",
      "\u001b[1m\u001b[36mcocker_spaniel\u001b[m\u001b[m                 \u001b[31msample_submission.csv\u001b[m\u001b[m\r\n",
      "\u001b[1m\u001b[36mcollie\u001b[m\u001b[m                         \u001b[1m\u001b[36mschipperke\u001b[m\u001b[m\r\n",
      "\u001b[1m\u001b[36mcurly-coated_retriever\u001b[m\u001b[m         \u001b[1m\u001b[36mscotch_terrier\u001b[m\u001b[m\r\n",
      "\u001b[1m\u001b[36mdandie_dinmont\u001b[m\u001b[m                 \u001b[1m\u001b[36mscottish_deerhound\u001b[m\u001b[m\r\n",
      "\u001b[1m\u001b[36mdhole\u001b[m\u001b[m                          \u001b[1m\u001b[36msealyham_terrier\u001b[m\u001b[m\r\n",
      "\u001b[1m\u001b[36mdingo\u001b[m\u001b[m                          \u001b[1m\u001b[36mshetland_sheepdog\u001b[m\u001b[m\r\n",
      "\u001b[1m\u001b[36mdoberman\u001b[m\u001b[m                       \u001b[1m\u001b[36mshih-tzu\u001b[m\u001b[m\r\n",
      "\u001b[1m\u001b[36menglish_foxhound\u001b[m\u001b[m               \u001b[1m\u001b[36msiberian_husky\u001b[m\u001b[m\r\n",
      "\u001b[1m\u001b[36menglish_setter\u001b[m\u001b[m                 \u001b[1m\u001b[36msilky_terrier\u001b[m\u001b[m\r\n",
      "\u001b[1m\u001b[36menglish_springer\u001b[m\u001b[m               \u001b[1m\u001b[36msoft-coated_wheaten_terrier\u001b[m\u001b[m\r\n",
      "\u001b[1m\u001b[36mentlebucher\u001b[m\u001b[m                    \u001b[1m\u001b[36mstaffordshire_bullterrier\u001b[m\u001b[m\r\n",
      "\u001b[1m\u001b[36meskimo_dog\u001b[m\u001b[m                     \u001b[1m\u001b[36mstandard_poodle\u001b[m\u001b[m\r\n",
      "\u001b[1m\u001b[36mflat-coated_retriever\u001b[m\u001b[m          \u001b[1m\u001b[36mstandard_schnauzer\u001b[m\u001b[m\r\n",
      "\u001b[1m\u001b[36mfrench_bulldog\u001b[m\u001b[m                 \u001b[1m\u001b[36msussex_spaniel\u001b[m\u001b[m\r\n",
      "\u001b[1m\u001b[36mgerman_shepherd\u001b[m\u001b[m                \u001b[1m\u001b[36mtempDir\u001b[m\u001b[m\r\n",
      "\u001b[1m\u001b[36mgerman_short-haired_pointer\u001b[m\u001b[m    \u001b[31mtest.zip\u001b[m\u001b[m\r\n",
      "\u001b[1m\u001b[36mgiant_schnauzer\u001b[m\u001b[m                \u001b[1m\u001b[36mtibetan_mastiff\u001b[m\u001b[m\r\n",
      "\u001b[1m\u001b[36mgolden_retriever\u001b[m\u001b[m               \u001b[1m\u001b[36mtibetan_terrier\u001b[m\u001b[m\r\n",
      "\u001b[1m\u001b[36mgordon_setter\u001b[m\u001b[m                  \u001b[1m\u001b[36mtoy_poodle\u001b[m\u001b[m\r\n",
      "\u001b[1m\u001b[36mgreat_dane\u001b[m\u001b[m                     \u001b[1m\u001b[36mtoy_terrier\u001b[m\u001b[m\r\n",
      "\u001b[1m\u001b[36mgreat_pyrenees\u001b[m\u001b[m                 \u001b[1m\u001b[36mtrain\u001b[m\u001b[m\r\n",
      "\u001b[1m\u001b[36mgreater_swiss_mountain_dog\u001b[m\u001b[m     \u001b[31mtrain.zip\u001b[m\u001b[m\r\n",
      "\u001b[1m\u001b[36mgroenendael\u001b[m\u001b[m                    \u001b[1m\u001b[36mvizsla\u001b[m\u001b[m\r\n",
      "\u001b[1m\u001b[36mibizan_hound\u001b[m\u001b[m                   \u001b[1m\u001b[36mwalker_hound\u001b[m\u001b[m\r\n",
      "\u001b[1m\u001b[36mirish_setter\u001b[m\u001b[m                   \u001b[1m\u001b[36mweimaraner\u001b[m\u001b[m\r\n",
      "\u001b[1m\u001b[36mirish_terrier\u001b[m\u001b[m                  \u001b[1m\u001b[36mwelsh_springer_spaniel\u001b[m\u001b[m\r\n",
      "\u001b[1m\u001b[36mirish_water_spaniel\u001b[m\u001b[m            \u001b[1m\u001b[36mwest_highland_white_terrier\u001b[m\u001b[m\r\n",
      "\u001b[1m\u001b[36mirish_wolfhound\u001b[m\u001b[m                \u001b[1m\u001b[36mwhippet\u001b[m\u001b[m\r\n",
      "\u001b[1m\u001b[36mitalian_greyhound\u001b[m\u001b[m              \u001b[1m\u001b[36mwire-haired_fox_terrier\u001b[m\u001b[m\r\n",
      "\u001b[1m\u001b[36mjapanese_spaniel\u001b[m\u001b[m               \u001b[1m\u001b[36myorkshire_terrier\u001b[m\u001b[m\r\n",
      "\u001b[1m\u001b[36mkeeshond\u001b[m\u001b[m\r\n"
     ]
    }
   ],
   "source": [
    "!ls"
   ]
  },
  {
   "cell_type": "code",
   "execution_count": 35,
   "metadata": {},
   "outputs": [],
   "source": [
    "!open ."
   ]
  },
  {
   "cell_type": "code",
   "execution_count": null,
   "metadata": {},
   "outputs": [],
   "source": []
  }
 ],
 "metadata": {
  "kernelspec": {
   "display_name": "Python 3",
   "language": "python",
   "name": "python3"
  },
  "language_info": {
   "codemirror_mode": {
    "name": "ipython",
    "version": 3
   },
   "file_extension": ".py",
   "mimetype": "text/x-python",
   "name": "python",
   "nbconvert_exporter": "python",
   "pygments_lexer": "ipython3",
   "version": "3.7.0"
  }
 },
 "nbformat": 4,
 "nbformat_minor": 2
}
